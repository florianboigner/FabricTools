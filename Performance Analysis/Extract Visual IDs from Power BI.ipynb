{
 "cells": [
  {
   "cell_type": "markdown",
   "metadata": {},
   "source": [
    "# Extract visual IDs from Power BI report\n",
    "\n",
    "This notebook is an example of how the Power BI Embedded APIs can be used to gather the VisualIDs from a Power BI report. The script connects to a report end embeds it into the Notebook, then it loops through the pages of the reports and extracts visual information, which are then exported to JSON. \n",
    "\n",
    "The visual ID's can e.g. be used together with the logs from the Log Analytics integration, to correlate query events with specific report pages and visuals. \n",
    "\n",
    "## Notes\n",
    "\n",
    "- The notebook was developed to be executed locally and currently doesn't work in Microsoft Fabric. \n",
    "- Execute the cells one-by-one. The report needs to be visibly embedded within the notebook before you can execute the last cell to collect the visual IDs.\n",
    "- Each page needs to have at least one visual, as the loop otherwise throws an error.\n",
    "- Please make sure that [powerbiclient](https://learn.microsoft.com/en-us/javascript/api/overview/powerbi/powerbi-jupyter) is installed."
   ]
  },
  {
   "cell_type": "code",
   "execution_count": null,
   "metadata": {},
   "outputs": [],
   "source": [
    "##################\n",
    "# Authentication #\n",
    "##################\n",
    "\n",
    "from powerbiclient import Report\n",
    "from powerbiclient.authentication import InteractiveLoginAuthentication\n",
    "\n",
    "# Initiate interactive authentication. A browser window will open and allow you to log in with your Power BI User\n",
    "auth = InteractiveLoginAuthentication()"
   ]
  },
  {
   "cell_type": "code",
   "execution_count": 2,
   "metadata": {},
   "outputs": [
    {
     "data": {
      "application/vnd.jupyter.widget-view+json": {
       "model_id": "5d45e60d4e6748f0874a3549a42edc7a",
       "version_major": 2,
       "version_minor": 0
      },
      "text/plain": [
       "Report()"
      ]
     },
     "execution_count": 2,
     "metadata": {},
     "output_type": "execute_result"
    }
   ],
   "source": [
    "##############################\n",
    "# Embed report into notebook #\n",
    "##############################\n",
    "\n",
    "# Power BI Workspace and Report IDs - to replace with correct report information\n",
    "workspace_id = \"\"\n",
    "report_id = \"\"\n",
    "\n",
    "# Embed report using auth\n",
    "report = Report(group_id=workspace_id, report_id=report_id, auth=auth)\n",
    "\n",
    "# Call report variabe to live-embed report into notebook\n",
    "report"
   ]
  },
  {
   "cell_type": "code",
   "execution_count": 3,
   "metadata": {},
   "outputs": [],
   "source": [
    "#######################################\n",
    "# Collect page and visual information #\n",
    "#######################################\n",
    "\n",
    "# NOTE: Please make sure the report is visibly embedded in the notebook, before executing this cell\n",
    "\n",
    "import json\n",
    "\n",
    "# Function to get all visuals on a page and return them in a JSON format including the page they are located on\n",
    "def get_visuals(self):\n",
    "    # Get list of pages\n",
    "    pages = self.get_pages()\n",
    "\n",
    "    # Create string variable that will store the JSON data\n",
    "    all_visuals = \"\"\n",
    "\n",
    "    # Iterate through all the pages\n",
    "    # NOTE: Each page will need at least 1 visual, otherwise the loop will not complete and throw an error\n",
    "    for page in pages:\n",
    "        # Load all visuals on current page in JSON format\n",
    "        visuals = report.visuals_on_page(page['name'])\n",
    "\n",
    "        # Loop through visuals and add current report page name to visuals info\n",
    "        for visual in visuals:\n",
    "            visual[\"ReportPage\"] = page['displayName']\n",
    "\n",
    "            # Save the current visuals back to the JSON variable, separated by a colon\n",
    "            if len(all_visuals) > 1: all_visuals += \", \"\n",
    "            \n",
    "            # Append the current visual to the JSON variable, by replacing all single with double quotes, as the JSON cannot be read correctly otherwise\n",
    "            all_visuals += str(visual).replace(\" '\", ' \"').replace(\"',\", '\",').replace(\"':\", '\":').replace(\"'}\", '\"}').replace(\"{'\", '{\"')\n",
    "        \n",
    "    # Return the full JSON as text and add brackets to make it a valid format as it is an array of separate JSONs\n",
    "    return \"[\" + all_visuals + \"]\"\n",
    "\n",
    "# Execute function\n",
    "report_visuals = get_visuals(report)\n",
    "\n",
    "# Replace with the folder path that you want to store the exported JSON file. End with \"/\"\n",
    "path = 'C:/path/'\n",
    "# Replace with file name\n",
    "report_name=\"file_name\"\n",
    "\n",
    "with open(path+report_name+'.json', 'w') as f:\n",
    "    json.dump(report_visuals, f)"
   ]
  }
 ],
 "metadata": {
  "kernelspec": {
   "display_name": "Python 3",
   "language": "python",
   "name": "python3"
  },
  "language_info": {
   "codemirror_mode": {
    "name": "ipython",
    "version": 3
   },
   "file_extension": ".py",
   "mimetype": "text/x-python",
   "name": "python",
   "nbconvert_exporter": "python",
   "pygments_lexer": "ipython3",
   "version": "3.9.13"
  },
  "orig_nbformat": 4
 },
 "nbformat": 4,
 "nbformat_minor": 2
}
